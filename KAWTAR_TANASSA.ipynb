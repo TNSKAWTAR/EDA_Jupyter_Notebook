{
 "cells": [
  {
   "cell_type": "code",
   "execution_count": 33,
   "id": "5588520b760b40d9",
   "metadata": {
    "ExecuteTime": {
     "end_time": "2024-05-05T22:07:44.803884Z",
     "start_time": "2024-05-05T22:07:44.791414Z"
    },
    "collapsed": false
   },
   "outputs": [],
   "source": [
    "#TANASSA KAWTAR mini project\n",
    "# : AMAZON "
   ]
  },
  {
   "cell_type": "code",
   "execution_count": 34,
   "id": "f11d1bdd56202e6",
   "metadata": {
    "ExecuteTime": {
     "end_time": "2024-05-05T22:07:44.865477Z",
     "start_time": "2024-05-05T22:07:44.851899Z"
    },
    "collapsed": false
   },
   "outputs": [],
   "source": [
    "# importer les bibliothèques nécessaires\n",
    "import pandas as pd\n",
    "import matplotlib.pyplot as plt\n",
    "import seaborn as sns\n"
   ]
  },
  {
   "cell_type": "code",
   "execution_count": 35,
   "id": "220dabbd312d8592",
   "metadata": {
    "ExecuteTime": {
     "end_time": "2024-05-05T22:07:45.364389Z",
     "start_time": "2024-05-05T22:07:45.117023Z"
    },
    "collapsed": false
   },
   "outputs": [
    {
     "name": "stdout",
     "output_type": "stream",
     "text": [
      "  show_id   type                 title        director  \\\n",
      "0      s1  Movie   The Grand Seduction    Don McKellar   \n",
      "1      s2  Movie  Take Care Good Night    Girish Joshi   \n",
      "2      s3  Movie  Secrets of Deception     Josh Webber   \n",
      "3      s4  Movie    Pink: Staying True  Sonia Anderson   \n",
      "4      s5  Movie         Monster Maker    Giles Foster   \n",
      "\n",
      "                                                cast         country  \\\n",
      "0     Brendan Gleeson, Taylor Kitsch, Gordon Pinsent          Canada   \n",
      "1   Mahesh Manjrekar, Abhay Mahajan, Sachin Khedekar           India   \n",
      "2  Tom Sizemore, Lorenzo Lamas, Robert LaSardo, R...   United States   \n",
      "3  Interviews with: Pink, Adele, Beyoncé, Britney...   United States   \n",
      "4  Harry Dean Stanton, Kieran O'Brien, George Cos...  United Kingdom   \n",
      "\n",
      "       date_added  release_year rating duration                listed_in  \\\n",
      "0  March 30, 2021          2014    NaN  113 min            Comedy, Drama   \n",
      "1  March 30, 2021          2018    13+  110 min     Drama, International   \n",
      "2  March 30, 2021          2017    NaN   74 min  Action, Drama, Suspense   \n",
      "3  March 30, 2021          2014    NaN   69 min              Documentary   \n",
      "4  March 30, 2021          1989    NaN   45 min           Drama, Fantasy   \n",
      "\n",
      "                                         description  \n",
      "0  A small fishing village must procure a local d...  \n",
      "1  A Metro Family decides to fight a Cyber Crimin...  \n",
      "2  After a man discovers his wife is cheating on ...  \n",
      "3  Pink breaks the mold once again, bringing her ...  \n",
      "4  Teenage Matt Banting wants to work with a famo...  \n"
     ]
    }
   ],
   "source": [
    "# Charger le fichier CSV\n",
    "df = pd.read_csv('amazon.csv')\n",
    "# vérification si le fichier a été chargé \n",
    "print(df.head())\n",
    " #finma ban lik shi package d jupyter installih taykhdm lik "
   ]
  },
  {
   "cell_type": "code",
   "execution_count": 36,
   "id": "2b5082885a8d8ecd",
   "metadata": {
    "ExecuteTime": {
     "end_time": "2024-05-05T22:07:45.378582Z",
     "start_time": "2024-05-05T22:07:45.367604Z"
    },
    "collapsed": false
   },
   "outputs": [
    {
     "name": "stdout",
     "output_type": "stream",
     "text": [
      "Top 5 des meilleures catégories :\n",
      "listed_in\n",
      "Drama              986\n",
      "Comedy             536\n",
      "Drama, Suspense    399\n",
      "Comedy, Drama      377\n",
      "Animation, Kids    356\n",
      "Name: count, dtype: int64\n"
     ]
    }
   ],
   "source": [
    "#Top 5 des meilleures catégories :\n",
    "# Compter le nombre d'occurrences de chaque catégorie\n",
    "top_categories = df['listed_in'].value_counts().head(5)\n",
    "\n",
    "# Afficher les résultats\n",
    "print(\"Top 5 des meilleures catégories :\")\n",
    "print(top_categories)\n"
   ]
  },
  {
   "cell_type": "code",
   "execution_count": 37,
   "id": "61658b6b34786bc7",
   "metadata": {
    "ExecuteTime": {
     "end_time": "2024-05-05T22:07:45.395490Z",
     "start_time": "2024-05-05T22:07:45.380665Z"
    },
    "collapsed": false
   },
   "outputs": [
    {
     "name": "stdout",
     "output_type": "stream",
     "text": [
      "director\n",
      "Mark Knight              113\n",
      "Cannis Holder             61\n",
      "Moonbug Entertainment     37\n",
      "Jay Chapman               34\n",
      "Arthur van Merwijk        30\n",
      "Name: count, dtype: int64\n"
     ]
    }
   ],
   "source": [
    "#Top 5 des meilleures catégories :\n",
    "# Compter le nombre d'occurrences de chaque directeur\n",
    "top_directors = df['director'].value_counts().head(5)\n",
    "print(top_directors)\n"
   ]
  },
  {
   "cell_type": "code",
   "execution_count": 38,
   "id": "5be6d34d162e6438",
   "metadata": {
    "ExecuteTime": {
     "end_time": "2024-05-05T22:07:45.418522Z",
     "start_time": "2024-05-05T22:07:45.399108Z"
    },
    "collapsed": false
   },
   "outputs": [
    {
     "data": {
      "text/plain": [
       "cast\n",
       "Maggie Binkley                      56\n",
       "1                                   34\n",
       "Anne-Marie Newland                  24\n",
       "Cassandra Peterson                  21\n",
       "Grace Tamayo, Erin Webbs            17\n",
       "Gene Autry, Champion, Gail Davis    12\n",
       "Stevin John                         11\n",
       "Gallagher                            9\n",
       "LB, Aaron Michael                    9\n",
       "Eddie Izzard                         9\n",
       "Name: count, dtype: int64"
      ]
     },
     "execution_count": 38,
     "metadata": {},
     "output_type": "execute_result"
    }
   ],
   "source": [
    "#top 10 actors\n",
    "# Compter le nombre d'occurrences de chaque acteur\n",
    "top_actors = df['cast'].value_counts().head(10)\n",
    "top_actors\n"
   ]
  },
  {
   "cell_type": "code",
   "execution_count": 39,
   "id": "1d1774ddbf4e95dc",
   "metadata": {
    "ExecuteTime": {
     "end_time": "2024-05-05T22:07:45.445445Z",
     "start_time": "2024-05-05T22:07:45.420620Z"
    },
    "collapsed": false
   },
   "outputs": [
    {
     "data": {
      "text/html": [
       "<div>\n",
       "<style scoped>\n",
       "    .dataframe tbody tr th:only-of-type {\n",
       "        vertical-align: middle;\n",
       "    }\n",
       "\n",
       "    .dataframe tbody tr th {\n",
       "        vertical-align: top;\n",
       "    }\n",
       "\n",
       "    .dataframe thead th {\n",
       "        text-align: right;\n",
       "    }\n",
       "</style>\n",
       "<table border=\"1\" class=\"dataframe\">\n",
       "  <thead>\n",
       "    <tr style=\"text-align: right;\">\n",
       "      <th></th>\n",
       "      <th>show_id</th>\n",
       "      <th>type</th>\n",
       "      <th>title</th>\n",
       "      <th>director</th>\n",
       "      <th>cast</th>\n",
       "      <th>country</th>\n",
       "      <th>date_added</th>\n",
       "      <th>release_year</th>\n",
       "      <th>rating</th>\n",
       "      <th>duration</th>\n",
       "      <th>listed_in</th>\n",
       "      <th>description</th>\n",
       "    </tr>\n",
       "  </thead>\n",
       "  <tbody>\n",
       "    <tr>\n",
       "      <th>800</th>\n",
       "      <td>s801</td>\n",
       "      <td>TV Show</td>\n",
       "      <td>Teen Wolf</td>\n",
       "      <td>NaN</td>\n",
       "      <td>Tyler Posey, Holland Roden, Shelley Hennig, Dy...</td>\n",
       "      <td>NaN</td>\n",
       "      <td>NaN</td>\n",
       "      <td>2017</td>\n",
       "      <td>TV-14</td>\n",
       "      <td>9 Seasons</td>\n",
       "      <td>TV Shows</td>\n",
       "      <td>On the eve of their departure, Scott and his p...</td>\n",
       "    </tr>\n",
       "    <tr>\n",
       "      <th>185</th>\n",
       "      <td>s186</td>\n",
       "      <td>TV Show</td>\n",
       "      <td>Vikings</td>\n",
       "      <td>NaN</td>\n",
       "      <td>Alex Høgh, Alexander Ludwig, Jasper Pääkkönen</td>\n",
       "      <td>NaN</td>\n",
       "      <td>NaN</td>\n",
       "      <td>2020</td>\n",
       "      <td>TV-14</td>\n",
       "      <td>9 Seasons</td>\n",
       "      <td>Action, Drama</td>\n",
       "      <td>Season six returns following the battle betwee...</td>\n",
       "    </tr>\n",
       "    <tr>\n",
       "      <th>1081</th>\n",
       "      <td>s1082</td>\n",
       "      <td>TV Show</td>\n",
       "      <td>Scrubs</td>\n",
       "      <td>NaN</td>\n",
       "      <td>Zach Braff, Donald Faison, Sarah Chalke, Ken J...</td>\n",
       "      <td>NaN</td>\n",
       "      <td>NaN</td>\n",
       "      <td>2010</td>\n",
       "      <td>TV-14</td>\n",
       "      <td>9 Seasons</td>\n",
       "      <td>Comedy</td>\n",
       "      <td>The doctors are ready to see you now. And this...</td>\n",
       "    </tr>\n",
       "    <tr>\n",
       "      <th>3571</th>\n",
       "      <td>s3572</td>\n",
       "      <td>TV Show</td>\n",
       "      <td>'Allo 'Allo!</td>\n",
       "      <td>NaN</td>\n",
       "      <td>Gorden Kaye, Guy Siner, Jeremy Lloyd, Kirsten ...</td>\n",
       "      <td>NaN</td>\n",
       "      <td>NaN</td>\n",
       "      <td>1992</td>\n",
       "      <td>13+</td>\n",
       "      <td>9 Seasons</td>\n",
       "      <td>Comedy</td>\n",
       "      <td>Wartime sitcom about the French Resistance sta...</td>\n",
       "    </tr>\n",
       "    <tr>\n",
       "      <th>867</th>\n",
       "      <td>s868</td>\n",
       "      <td>TV Show</td>\n",
       "      <td>Suits</td>\n",
       "      <td>NaN</td>\n",
       "      <td>Gabriel Macht, Rick Hoffman, Sarah Rafferty, D...</td>\n",
       "      <td>NaN</td>\n",
       "      <td>NaN</td>\n",
       "      <td>2019</td>\n",
       "      <td>NR</td>\n",
       "      <td>9 Seasons</td>\n",
       "      <td>Drama</td>\n",
       "      <td>Suits centers on a fast-paced Manhattan corpor...</td>\n",
       "    </tr>\n",
       "  </tbody>\n",
       "</table>\n",
       "</div>"
      ],
      "text/plain": [
       "     show_id     type         title director  \\\n",
       "800     s801  TV Show     Teen Wolf      NaN   \n",
       "185     s186  TV Show       Vikings      NaN   \n",
       "1081   s1082  TV Show        Scrubs      NaN   \n",
       "3571   s3572  TV Show  'Allo 'Allo!      NaN   \n",
       "867     s868  TV Show         Suits      NaN   \n",
       "\n",
       "                                                   cast country date_added  \\\n",
       "800   Tyler Posey, Holland Roden, Shelley Hennig, Dy...     NaN        NaN   \n",
       "185       Alex Høgh, Alexander Ludwig, Jasper Pääkkönen     NaN        NaN   \n",
       "1081  Zach Braff, Donald Faison, Sarah Chalke, Ken J...     NaN        NaN   \n",
       "3571  Gorden Kaye, Guy Siner, Jeremy Lloyd, Kirsten ...     NaN        NaN   \n",
       "867   Gabriel Macht, Rick Hoffman, Sarah Rafferty, D...     NaN        NaN   \n",
       "\n",
       "      release_year rating   duration      listed_in  \\\n",
       "800           2017  TV-14  9 Seasons       TV Shows   \n",
       "185           2020  TV-14  9 Seasons  Action, Drama   \n",
       "1081          2010  TV-14  9 Seasons         Comedy   \n",
       "3571          1992    13+  9 Seasons         Comedy   \n",
       "867           2019     NR  9 Seasons          Drama   \n",
       "\n",
       "                                            description  \n",
       "800   On the eve of their departure, Scott and his p...  \n",
       "185   Season six returns following the battle betwee...  \n",
       "1081  The doctors are ready to see you now. And this...  \n",
       "3571  Wartime sitcom about the French Resistance sta...  \n",
       "867   Suits centers on a fast-paced Manhattan corpor...  "
      ]
     },
     "execution_count": 39,
     "metadata": {},
     "output_type": "execute_result"
    }
   ],
   "source": [
    "#Top 5 sereis \n",
    "# Filtrer les entrées pour ne considérer que les séries TV\n",
    "tv_shows = df[df['type'] == 'TV Show']\n",
    "\n",
    "# Trier les séries TV par nombre de saisons en ordre décroissant\n",
    "top_tv_shows = tv_shows.sort_values(by='duration', ascending=False).head(5)\n",
    "top_tv_shows\n"
   ]
  },
  {
   "cell_type": "code",
   "execution_count": 40,
   "id": "8ba76a4fc9d0654e",
   "metadata": {
    "ExecuteTime": {
     "end_time": "2024-05-05T22:07:47.671458Z",
     "start_time": "2024-05-05T22:07:45.447540Z"
    },
    "collapsed": false
   },
   "outputs": [
    {
     "data": {
      "text/plain": [
       "6083        Mary J. Blige’s My Life\n",
       "3694               April Fool's Day\n",
       "6708         Mrs. Whittle's Cottage\n",
       "2798        Cómo Sobrevivir Soltero\n",
       "457           The Secret Life of Us\n",
       "8473                             GD\n",
       "473                 The Raveonettes\n",
       "4798     The History of Time Travel\n",
       "2172                 How We Got Gay\n",
       "2051    Jay Mohr: American Treasure\n",
       "Name: title, dtype: object"
      ]
     },
     "execution_count": 40,
     "metadata": {},
     "output_type": "execute_result"
    }
   ],
   "source": [
    "#'identifier des contenus similaires en faisant correspondre des caractéristiques textuelles\n",
    "import pandas as pd\n",
    "from sklearn.feature_extraction.text import CountVectorizer\n",
    "from sklearn.metrics.pairwise import cosine_similarity\n",
    "\n",
    "# Créer une instance de CountVectorizer pour convertir les descriptions en vecteurs de mots\n",
    "count_vectorizer = CountVectorizer(stop_words='english')\n",
    "count_matrix = count_vectorizer.fit_transform(df['description'].fillna(''))\n",
    "\n",
    "# Calculer la similarité cosinus entre les descriptions\n",
    "cosine_sim = cosine_similarity(count_matrix, count_matrix)\n",
    "\n",
    "# Créer une série Pandas avec l'index des titres et les valeurs des descriptions\n",
    "indices = pd.Series(df.index, index=df['title'])\n",
    "\n",
    "# Définir une fonction pour obtenir les contenus similaires\n",
    "def get_similar_titles(title, cosine_sim=cosine_sim):\n",
    "    idx = indices[title]\n",
    "    sim_scores = list(enumerate(cosine_sim[idx]))\n",
    "    sim_scores = sorted(sim_scores, key=lambda x: x[1], reverse=True)\n",
    "    sim_scores = sim_scores[1:11]\n",
    "    content_indices = [i[0] for i in sim_scores]\n",
    "    return df['title'].iloc[content_indices]\n",
    "\n",
    "# Exemple d'utilisation : trouver les contenus similaires à un titre donné\n",
    "similar_titles = get_similar_titles('Hired Gun')\n",
    "similar_titles\n"
   ]
  },
  {
   "cell_type": "code",
   "execution_count": 41,
   "id": "c0072aa1557e1849",
   "metadata": {
    "ExecuteTime": {
     "end_time": "2024-05-05T22:07:48.159151Z",
     "start_time": "2024-05-05T22:07:47.673640Z"
    },
    "collapsed": false
   },
   "outputs": [
    {
     "data": {
      "image/png": "[encoded data removed]",
      "text/plain": [
       "<Figure size 1000x600 with 1 Axes>"
      ]
     },
     "metadata": {},
     "output_type": "display_data"
    }
   ],
   "source": [
    "#amazon se concentre-t-il davantage sur les séries télévisées que sur les films ces dernières années ?\n",
    "import pandas as pd\n",
    "import matplotlib.pyplot as plt\n",
    "\n",
    "# Charger le fichier CSV\n",
    "df = pd.read_csv('amazon.csv')\n",
    "\n",
    "# Grouper les données par année de sortie (release_year) et par catégorie (type)\n",
    "content_by_year = df.groupby(['release_year', 'type']).size().unstack(fill_value=0)\n",
    "\n",
    "# Calculer le total de contenus ajoutés par année\n",
    "content_by_year['total'] = content_by_year.sum(axis=1)\n",
    "\n",
    "# Calculer la proportion de séries télévisées et de films ajoutés chaque année\n",
    "content_by_year['tv_show_ratio'] = content_by_year['TV Show'] / content_by_year['total']\n",
    "content_by_year['movie_ratio'] = content_by_year['Movie'] / content_by_year['total']\n",
    "\n",
    "# Tracer les proportions de séries télévisées et de films ajoutés au fil des années\n",
    "plt.figure(figsize=(10, 6))\n",
    "plt.plot(content_by_year.index, content_by_year['tv_show_ratio'], label='Séries télévisées')\n",
    "plt.plot(content_by_year.index, content_by_year['movie_ratio'], label='Films')\n",
    "plt.title(\"Proportion de séries télévisées et de films ajoutés au fil des années\")\n",
    "plt.xlabel(\"Année de sortie\")\n",
    "plt.ylabel(\"Proportion\")\n",
    "plt.legend()\n",
    "plt.grid(True)\n",
    "plt.show()\n"
   ]
  },
  {
   "cell_type": "code",
   "execution_count": 41,
   "id": "cd6d6d72454d4e95",
   "metadata": {
    "ExecuteTime": {
     "end_time": "2024-05-05T22:07:48.167720Z",
     "start_time": "2024-05-05T22:07:48.163106Z"
    },
    "collapsed": false
   },
   "outputs": [],
   "source": []
  }
 ],
 "metadata": {
  "kernelspec": {
   "display_name": "Python 3",
   "language": "python",
   "name": "python3"
  },
  "language_info": {
   "codemirror_mode": {
    "name": "ipython",
    "version": 2
   },
   "file_extension": ".py",
   "mimetype": "text/x-python",
   "name": "python",
   "nbconvert_exporter": "python",
   "pygments_lexer": "ipython2",
   "version": "2.7.6"
  }
 },
 "nbformat": 4,
 "nbformat_minor": 5
}
